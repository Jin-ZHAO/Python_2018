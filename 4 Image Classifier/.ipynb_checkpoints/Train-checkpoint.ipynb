{
 "cells": [
  {
   "cell_type": "code",
   "execution_count": 8,
   "metadata": {},
   "outputs": [],
   "source": [
    "import numpy as np\n",
    "import matplotlib.pyplot as plt\n",
    "import torch\n",
    "import torch.nn as nn\n",
    "from torch import tensor\n",
    "import torch.optim as optim\n",
    "from torch.optim import lr_scheduler\n",
    "import torch.nn.functional as F\n",
    "from torch.autograd import Variable\n",
    "from torchvision import datasets, transforms, models\n",
    "import torchvision.models as models\n",
    "from collections import OrderedDict\n",
    "import json\n",
    "import PIL\n",
    "from PIL import Image\n",
    "import argparse\n",
    "import customize_flore"
   ]
  },
  {
   "cell_type": "code",
   "execution_count": null,
   "metadata": {},
   "outputs": [],
   "source": [
    "parser = argparse.ArgumentParser()\n",
    "\n",
    "# 设置保存检查点的目录：\n",
    "parser.add_argument('data_dir', nargs='*', action='store', default='./flowers/', help='train on the data directory')\n",
    "parser.add_argument('--save_dir', dest='save_dir', action='store', default='./checkpoint.pth', help='the path where to save the checkpoint')\n",
    "\n",
    "# 选择架构\n",
    "parser.add_argument('--arch', dest='arch', action='store', default='vgg13', type = str, help='choose a pytorch model')\n",
    "\n",
    "#设置超参数\n",
    "parser.add_argument('--learning_rate', dest='learning_rate', action='store', default=0.01)\n",
    "parser.add_argument('--hidden_units', type=int, dest='hidden_units', action='store', default=512)\n",
    "parser.add_argument('--epochs', dest='epochs', action=\"store\", type=int, default=20)\n",
    "\n",
    "#使用 GPU 进行训练\n",
    "parser.add_argument('--gpu', dest='gpu', action='store', default='gpu')\n",
    "\n",
    "pa = ap.parse_args()\n",
    "where = pa.data_dir\n",
    "path = pa.save_dir\n",
    "lr = pa.learning_rate\n",
    "structure = pa.arch\n",
    "dropout = pa.dropout\n",
    "hidden_layer1 = pa.hidden_units\n",
    "power = pa.gpu\n",
    "epochs = pa.epochs\n",
    "\n",
    "trainloader, valiloader, testloader = customize_flore.load_data(where)\n",
    "\n",
    "model, optimizer, criterion = customize_flore.preparation(structure,dropout,hidden_layer1,lr,power)\n",
    "\n",
    "customize_flore.train_network(model, optimizer, criterion, epochs, 20, trainloader, power)\n",
    "\n",
    "customize_flore.save_checkpoint(path,structure,hidden_layer1,dropout,lr)\n",
    "\n",
    "\n",
    "print(\"Done!\") "
   ]
  }
 ],
 "metadata": {
  "kernelspec": {
   "display_name": "Python 3",
   "language": "python",
   "name": "python3"
  },
  "language_info": {
   "codemirror_mode": {
    "name": "ipython",
    "version": 3
   },
   "file_extension": ".py",
   "mimetype": "text/x-python",
   "name": "python",
   "nbconvert_exporter": "python",
   "pygments_lexer": "ipython3",
   "version": "3.6.4"
  }
 },
 "nbformat": 4,
 "nbformat_minor": 2
}
